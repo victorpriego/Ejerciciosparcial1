{
  "nbformat": 4,
  "nbformat_minor": 0,
  "metadata": {
    "colab": {
      "name": "prg5.ipynb",
      "provenance": [],
      "collapsed_sections": []
    },
    "kernelspec": {
      "name": "python3",
      "display_name": "Python 3"
    }
  },
  "cells": [
    {
      "cell_type": "code",
      "metadata": {
        "id": "bmFa8CRnguq4"
      },
      "source": [
        "#Programma 5\n",
        "print(\"tomando pedidos de payasos y juegos de mesa de maximo 10 kg\")\n",
        "def pesopedido(val1,val2):\n",
        " if c > 10000:\n",
        "   return [c,False]\n",
        " else: \n",
        "   return [c,True]\n",
        "a=int (input(\"Nº de payasos: \"))*150\n",
        "b=int (input(\"Nº juegos de mesa: \"))*170\n",
        "c=a+b\n",
        "res,status=pesopedido(a,b)\n",
        "\n",
        "if (status):\n",
        "  print(\"Confirmado, su orden pesa: \",c, \"gramos\")\n",
        "else: \n",
        "  print(\"Rechazado, el pedido rebasa el limite 10 kg por:\",c-10000,\"gramos\")"
      ],
      "execution_count": null,
      "outputs": []
    }
  ]
}