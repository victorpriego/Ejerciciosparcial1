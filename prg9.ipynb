{
  "nbformat": 4,
  "nbformat_minor": 0,
  "metadata": {
    "colab": {
      "name": "prg9.ipynb",
      "provenance": [],
      "collapsed_sections": []
    },
    "kernelspec": {
      "name": "python3",
      "display_name": "Python 3"
    }
  },
  "cells": [
    {
      "cell_type": "code",
      "metadata": {
        "id": "1_KXpT20zgti"
      },
      "source": [
        "print(\"Este programa calcula el factorial a partir de un numero entero\")\n",
        "def factorial(n): \n",
        "   resultado = 1\n",
        "   i = 1\n",
        "   while i <= n:\n",
        "     resultado = resultado * i\n",
        "     i = i + 1\n",
        "   print(\"Factorial:\",resultado)\n",
        "factorial(int (input(\"Número: \")))"
      ],
      "execution_count": null,
      "outputs": []
    }
  ]
}