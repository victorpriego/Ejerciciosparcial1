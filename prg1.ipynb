{
  "nbformat": 4,
  "nbformat_minor": 0,
  "metadata": {
    "colab": {
      "name": "prg1.ipynb",
      "provenance": [],
      "collapsed_sections": []
    },
    "kernelspec": {
      "name": "python3",
      "display_name": "Python 3"
    }
  },
  "cells": [
    {
      "cell_type": "code",
      "metadata": {
        "id": "0UdH9Lpfmk87"
      },
      "source": [
        "#Ejercicio 1\n",
        "print(\"Este programa toma un numero y dice si es par o impar\")\n",
        "value = int (input(\"Ingrese un valor: \"))\n",
        "if value%2==0:\n",
        "    print(value, \"es par\")\n",
        "else:\n",
        "    print(value, \"es impar\")"
      ],
      "execution_count": null,
      "outputs": []
    }
  ]
}