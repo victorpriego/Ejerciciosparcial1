{
  "nbformat": 4,
  "nbformat_minor": 0,
  "metadata": {
    "colab": {
      "name": "prg8.ipynb",
      "provenance": [],
      "collapsed_sections": []
    },
    "kernelspec": {
      "name": "python3",
      "display_name": "Python 3"
    }
  },
  "cells": [
    {
      "cell_type": "code",
      "metadata": {
        "id": "LTM6AK3Sy_a1"
      },
      "source": [
        "#Programa 8\n",
        "print(\"Este programa dibujara un triangulo con el numero entero que ingreses\")\n",
        "x = int(input(\"Ingresa el numero: \"))\n",
        "for i in range (x+1):\n",
        "    print(\"*\"*i)"
      ],
      "execution_count": null,
      "outputs": []
    }
  ]
}