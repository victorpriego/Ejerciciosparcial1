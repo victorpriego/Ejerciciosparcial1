{
  "nbformat": 4,
  "nbformat_minor": 0,
  "metadata": {
    "colab": {
      "name": "Prg7.ipynb",
      "provenance": [],
      "collapsed_sections": []
    },
    "kernelspec": {
      "name": "python3",
      "display_name": "Python 3"
    }
  },
  "cells": [
    {
      "cell_type": "code",
      "metadata": {
        "id": "K-eWzyE8twdi",
        "outputId": "0085f412-d53a-43d4-9180-c599534851cf",
        "colab": {
          "base_uri": "https://localhost:8080/"
        }
      },
      "source": [
        "#Programma 7\n",
        "print(\"Este programa calcula el precio de tu entrada al museo\")\n",
        "print(\"Introduzca su edad\")\n",
        "e = int(input(\"(1. Menor de 4 años) (2.Entre 4 y 16 años) (3. Adulto +18) \"))\n",
        "print(\"Elija su ocupacion\")\n",
        "o = int(input(\"(1. Estudiante con credencial) (2. Docente con credencial) (3. INAPAM) \"))\n",
        "\n",
        "if e == 1 and o == 1:\n",
        "  print(\"Pasa Gratis\")\n",
        "if e == 2 and o == 1:\n",
        "  print(\"4 y 16 años, es estudiante con credencial, paga: $45\")\n",
        "if e == 3 and o == 1:\n",
        "  print(\"Adulto, estudiante con credencial, pagará: $90\")\n",
        "\n",
        "if e == 1 and o == 2:\n",
        "  print(\"Menor de 4 años pasa Gratis\")\n",
        "if e == 2 and o == 2:\n",
        "  print(\"Esto no es posible paga $50\")\n",
        "if e == 3 and o == 2:\n",
        "  print(\"Adulto, docente con credencial, pagará: $70\")\n",
        "\n",
        "if e == 1 and o == 3:\n",
        "  print(\"Menor de 4 años pasa Gratis\")\n",
        "if e == 2 and o == 3:\n",
        "  print(\"Esto no es posible paga $50\")\n",
        "if e == 3 and o == 3:\n",
        "  print(\"Adulto INAPAM, pagará: $50\")"
      ],
      "execution_count": 9,
      "outputs": [
        {
          "output_type": "stream",
          "text": [
            "Este programa calcula el precio de tu entrada al museo\n",
            "Introduzca su edad\n",
            "(1. Menor de 4 años) (2.Entre 4 y 16 años) (3. Adulto +18) 2\n",
            "Elija su ocupacion\n",
            "(1. Estudiante con credencial) (2. Docente con credencial) (3. INAPAM) 3\n",
            "Esto no es posible paga 50\n"
          ],
          "name": "stdout"
        }
      ]
    }
  ]
}