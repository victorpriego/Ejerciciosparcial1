{
  "nbformat": 4,
  "nbformat_minor": 0,
  "metadata": {
    "colab": {
      "name": "prg2.ipynb",
      "provenance": []
    },
    "kernelspec": {
      "name": "python3",
      "display_name": "Python 3"
    }
  },
  "cells": [
    {
      "cell_type": "code",
      "metadata": {
        "id": "wr45XdNPm06Q"
      },
      "source": [
        "chain=str (input(\"Introduce un texto: \"))\n",
        "rep=int (input(\"¿Cuantas veces quiere repetirlo?: \"))\n",
        "\n",
        "for i in range(0,rep):\n",
        "  print(chain)"
      ],
      "execution_count": null,
      "outputs": []
    }
  ]
}