{
  "nbformat": 4,
  "nbformat_minor": 0,
  "metadata": {
    "colab": {
      "name": "prg3.ipynb",
      "provenance": [],
      "collapsed_sections": []
    },
    "kernelspec": {
      "name": "python3",
      "display_name": "Python 3"
    }
  },
  "cells": [
    {
      "cell_type": "code",
      "metadata": {
        "id": "XZMPYpkOn2xJ"
      },
      "source": [
        "#Programma 3\n",
        "x=150\n",
        "print(\"Hola, este programa calcula tu salario basado en la horas trabajadas\")\n",
        "horas = int(input(\"¿horas de trabajo hoy? \"))\n",
        "y=horas*x\n",
        "print(\"tu sueldo dentro de:\",y,\"pesos\")\n",
        "print(\"Tu sueldo dentro de 5 dias será de:\", y*5, \"pesos\")\n",
        "print(\"Tu sueldo dentro de 20 dias será de:\", y*20, \"pesos\")"
      ],
      "execution_count": null,
      "outputs": []
    }
  ]
}