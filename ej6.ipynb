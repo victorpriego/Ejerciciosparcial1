{
  "nbformat": 4,
  "nbformat_minor": 0,
  "metadata": {
    "colab": {
      "name": "ej6.ipynb",
      "provenance": [],
      "collapsed_sections": []
    },
    "kernelspec": {
      "name": "python3",
      "display_name": "Python 3"
    }
  },
  "cells": [
    {
      "cell_type": "code",
      "metadata": {
        "id": "qjoGZwHbkVT1",
        "outputId": "342cca43-96e5-46ac-87ad-e9087018602c",
        "colab": {
          "base_uri": "https://localhost:8080/"
        }
      },
      "source": [
        "print(\"este programa te informa tu porcentaje de descuento salarial, basado en tu ingreso\")\n",
        "x = int(input(\"¿Cual es tu ingreso total? \"))\n",
        "if x < 10000:\n",
        "  print(\"Estas en el intervalo de 10000. Se te descontara el 5%, tu total es de:\",(x)-(x*.05), \"pesos\")\n",
        "\n",
        "if 10000 < x < 15000:\n",
        "  print(\"Estas en el intervalo de mas de 10000 y menos de 15000. Se te descontara el 10%, tu total es de:\",(x)-(x*.10), \"pesos\")\n",
        "\n",
        "if 15000 < x < 20000:\n",
        "  print(\"Estas en el intervalo de menos de 15000 y menos de 20000. Se te descontara el 15%, tu total es de:\",(x)-(x*.15), \"pesos\")\n",
        "\n",
        "if x > 20000:\n",
        "  print(\"Estas en el intervalo de mas de 20000. Se te descontara el 20%, tu total es de:\",(x)-(x*.20), \"pesos\")"
      ],
      "execution_count": 2,
      "outputs": [
        {
          "output_type": "stream",
          "text": [
            "este programa te informa tu porcentaje de descuento salarial, basado en tu ingreso\n",
            "¿Cual es tu ingreso total? 100000\n",
            "Estas en el intervalo de mas de 20000. Se te descontara el 20%, tu total es de: 80000.0 pesos\n"
          ],
          "name": "stdout"
        }
      ]
    }
  ]
}