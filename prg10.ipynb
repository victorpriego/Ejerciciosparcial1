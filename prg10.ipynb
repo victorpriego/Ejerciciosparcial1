{
  "nbformat": 4,
  "nbformat_minor": 0,
  "metadata": {
    "colab": {
      "name": "prg10.ipynb",
      "provenance": [],
      "collapsed_sections": []
    },
    "kernelspec": {
      "name": "python3",
      "display_name": "Python 3"
    }
  },
  "cells": [
    {
      "cell_type": "code",
      "metadata": {
        "id": "snal5Hkd0JIA"
      },
      "source": [
        "def area(radio):\n",
        " A=3.1416*(radio**2)\n",
        " return A\n",
        "def volumen(radio,h):\n",
        " V=area(radio)*h\n",
        " return V\n",
        "\n",
        "radio=float (input(\"¿Cual es el radio del círculo?: \"))\n",
        "h=float (input(\"¿Cual es la altura del cilindro?: \"))\n",
        "print(\"El área del círculo es:\",area(radio))\n",
        "print(\"El volumen del cilindro es:\",volumen(radio,h))"
      ],
      "execution_count": null,
      "outputs": []
    }
  ]
}