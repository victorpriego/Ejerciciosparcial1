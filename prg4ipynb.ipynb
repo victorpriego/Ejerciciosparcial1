{
  "nbformat": 4,
  "nbformat_minor": 0,
  "metadata": {
    "colab": {
      "name": "prg4ipynb",
      "provenance": [],
      "collapsed_sections": []
    },
    "kernelspec": {
      "name": "python3",
      "display_name": "Python 3"
    }
  },
  "cells": [
    {
      "cell_type": "code",
      "metadata": {
        "id": "FUhVA64TpN-2"
      },
      "source": [
        "#Programma 4\n",
        "print(\"Este programa es una calculadora de dos dos valores\")\n",
        "x = input(\"Digite a.Suma   b.Resta   c.Multiplicacion    d.Division \")\n",
        "if x != \"d\":\n",
        "  h = float (input(\"Inserte el primer valor: \"))\n",
        "  i = float (input(\"Inserte el segundo valor: \"))\n",
        "if x == \"d\":\n",
        "  j = float (input(\"Inserte el primer valor: \"))\n",
        "  k = float (input(\"Inserte el segundo valor: \"))\n",
        "  if k == 0: \n",
        "      print(\"El numero 0 no es valido\")\n",
        "      while k == 0:\n",
        "        k = float (input(\"Inserte el segundo valor: \"))\n",
        "        if k ==0:\n",
        "          print(\"El numero 0 no es valido\")\n",
        "if x == \"a\":\n",
        "  print(\"El resultado es: \",h+i)\n",
        "if x == \"b\":\n",
        "  print(\"El resultado es: \",h-i)\n",
        "if x == \"c\":\n",
        "  print(\"El resultado es: \",h*i)\n",
        "if x == \"d\":\n",
        "  print(\"El resultado es: \",j/k)"
      ],
      "execution_count": null,
      "outputs": []
    }
  ]
}